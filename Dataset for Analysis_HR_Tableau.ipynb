{
 "cells": [
  {
   "cell_type": "markdown",
   "id": "0ce0007a",
   "metadata": {},
   "source": [
    "# Making Own Dataset for HR Analysis using Tableau"
   ]
  },
  {
   "cell_type": "code",
   "execution_count": 4,
   "id": "70339405",
   "metadata": {},
   "outputs": [
    {
     "name": "stdout",
     "output_type": "stream",
     "text": [
      "Collecting faker\n",
      "  Obtaining dependency information for faker from https://files.pythonhosted.org/packages/65/79/e13ae542f63ce40d02b0fe63809563b102f19ffa3b94e6062ee9286a7801/Faker-36.1.1-py3-none-any.whl.metadata\n",
      "  Downloading Faker-36.1.1-py3-none-any.whl.metadata (15 kB)\n",
      "Collecting tzdata (from faker)\n",
      "  Obtaining dependency information for tzdata from https://files.pythonhosted.org/packages/0f/dd/84f10e23edd882c6f968c21c2434fe67bd4a528967067515feca9e611e5e/tzdata-2025.1-py2.py3-none-any.whl.metadata\n",
      "  Downloading tzdata-2025.1-py2.py3-none-any.whl.metadata (1.4 kB)\n",
      "Using cached Faker-36.1.1-py3-none-any.whl (1.9 MB)\n",
      "Using cached tzdata-2025.1-py2.py3-none-any.whl (346 kB)\n",
      "Installing collected packages: tzdata, faker\n",
      "Successfully installed faker-36.1.1 tzdata-2025.1\n"
     ]
    }
   ],
   "source": [
    "!pip install faker\n"
   ]
  },
  {
   "cell_type": "code",
   "execution_count": 5,
   "id": "5bf99027",
   "metadata": {},
   "outputs": [],
   "source": [
    "import pandas as pd\n",
    "import numpy as np\n",
    "from faker import Faker\n",
    "from datetime import datetime, timedelta\n",
    "import random"
   ]
  },
  {
   "cell_type": "code",
   "execution_count": 6,
   "id": "973f5bd9",
   "metadata": {},
   "outputs": [],
   "source": [
    "# Initialize Faker\n",
    "fake = Faker('en_US')\n",
    "Faker.seed(42)\n",
    "np.random.seed(42)\n",
    "random.seed(42)"
   ]
  },
  {
   "cell_type": "code",
   "execution_count": 7,
   "id": "b7e37233",
   "metadata": {},
   "outputs": [],
   "source": [
    "# Configuration\n",
    "num_records = 8950"
   ]
  },
  {
   "cell_type": "code",
   "execution_count": 8,
   "id": "b0517a94",
   "metadata": {},
   "outputs": [],
   "source": [
    "# States & Cities\n",
    "states_cities = {\n",
    "    'New York': ['New York City', 'Buffalo', 'Rochester'],\n",
    "    'Virginia': ['Virginia Beach', 'Norfolk', 'Richmond'],\n",
    "    'Florida': ['Miami', 'Orlando', 'Tampa'],\n",
    "    'Illinois': ['Chicago', 'Aurora', 'Naperville'],\n",
    "    'Pennsylvania': ['Philadelphia', 'Pittsburgh', 'Allentown'],\n",
    "    'Ohio': ['Columbus', 'Cleveland', 'Cincinnati'],\n",
    "    'North Carolina': ['Charlotte', 'Raleigh', 'Greensboro'],\n",
    "    'Michigan': ['Detroit', 'Grand Rapids', 'Warren']\n",
    "}\n",
    "states = list(states_cities.keys())\n",
    "state_prob = [0.7, 0.02, 0.01, 0.03, 0.05, 0.03, 0.05, 0.11]\n",
    "assigned_states = np.random.choice(states, size=num_records, p=state_prob)\n",
    "assigned_cities = [np.random.choice(states_cities[state]) for state in assigned_states]"
   ]
  },
  {
   "cell_type": "code",
   "execution_count": 9,
   "id": "d8b83eb2",
   "metadata": {},
   "outputs": [],
   "source": [
    "# Departments & Jobtitles\n",
    "departments = ['HR', 'IT', 'Sales', 'Marketing', 'Finance', 'Operations', 'Customer Service']\n",
    "departments_prob = [0.02, 0.15, 0.21, 0.08, 0.05, 0.30, 0.19]\n",
    "jobtitles = {\n",
    "    'HR': ['HR Manager', 'HR Coordinator', 'Recruiter', 'HR Assistant'],\n",
    "    'IT': ['IT Manager', 'Software Developer', 'System Administrator', 'IT Support Specialist'],\n",
    "    'Sales': ['Sales Manager', 'Sales Consultant', 'Sales Specialist', 'Sales Representative'],\n",
    "    'Marketing': ['Marketing Manager', 'SEO Specialist', 'Content Creator', 'Marketing Coordinator'],\n",
    "    'Finance': ['Finance Manager', 'Accountant', 'Financial Analyst', 'Accounts Payable Specialist'],\n",
    "    'Operations': ['Operations Manager', 'Operations Analyst', 'Logistics Coordinator', 'Inventory Specialist'],\n",
    "    'Customer Service': ['Customer Service Manager', 'Customer Service Representative', 'Support Specialist', 'Help Desk Technician']\n",
    "}\n",
    "jobtitles_prob = {\n",
    "    'HR': [0.03, 0.3, 0.47, 0.2],  # HR Manager, HR Coordinator, Recruiter, HR Assistant\n",
    "    'IT': [0.02, 0.47, 0.2, 0.31],  # IT Manager, Software Developer, System Administrator, IT Support Specialist\n",
    "    'Sales': [0.03, 0.25, 0.32, 0.4],  # Sales Manager, Sales Consultant, Sales Specialist, Sales Representative\n",
    "    'Marketing': [0.04, 0.25, 0.41, 0.3],  # Marketing Manager, SEO Specialist, Content Creator, Marketing Coordinator\n",
    "    'Finance': [0.03, 0.37, 0.4, 0.2],  # Finance Manager, Accountant, Financial Analyst, Accounts Payable Specialist\n",
    "    'Operations': [0.02, 0.2, 0.4, 0.38],  # Operations Manager, Operations Analyst, Logistics Coordinator, Inventory Specialist\n",
    "    'Customer Service': [0.04, 0.3, 0.38, 0.28]  # Customer Service Manager, Customer Service Representative, Support Specialist, Help Desk Technician\n",
    "}"
   ]
  },
  {
   "cell_type": "code",
   "execution_count": 10,
   "id": "8da9015b",
   "metadata": {},
   "outputs": [],
   "source": [
    "# Educations\n",
    "educations = ['High School', \"Bachelor\", \"Master\", 'PhD']\n",
    "\n",
    "education_mapping = {\n",
    "    'HR Manager': [\"Master\", \"PhD\"],\n",
    "    'HR Coordinator': [\"Bachelor\", \"Master\"],\n",
    "    'Recruiter': [\"High School\", \"Bachelor\"],\n",
    "    'HR Assistant': [\"High School\", \"Bachelor\"],\n",
    "    'IT Manager': [\"PhD\", \"Master\"],\n",
    "    'Software Developer': [\"Bachelor\", \"Master\"],\n",
    "    'System Administrator': [\"Bachelor\", \"Master\"],\n",
    "    'IT Support Specialist': [\"High School\", \"Bachelor\"],\n",
    "    'Sales Manager': [\"Master\",\"PhD\"],\n",
    "    'Sales Consultant': [\"Bachelor\", \"Master\", \"PhD\"],\n",
    "    'Sales Specialist': [\"Bachelor\", \"Master\", \"PhD\"],\n",
    "    'Sales Representative': [\"Bachelor\"],\n",
    "    'Marketing Manager': [\"Bachelor\", \"Master\",\"PhD\"],\n",
    "    'SEO Specialist': [\"High School\", \"Bachelor\"],\n",
    "    'Content Creator': [\"High School\", \"Bachelor\"],\n",
    "    'Marketing Coordinator': [\"Bachelor\"],\n",
    "    'Finance Manager': [\"Master\", \"PhD\"],\n",
    "    'Accountant': [\"Bachelor\"],\n",
    "    'Financial Analyst': [\"Bachelor\", \"Master\", \"PhD\"],\n",
    "    'Accounts Payable Specialist': [\"Bachelor\"],\n",
    "    'Operations Manager': [\"Bachelor\", \"Master\"],\n",
    "    'Operations Analyst': [\"Bachelor\", \"Master\"],\n",
    "    'Logistics Coordinator': [\"Bachelor\"],\n",
    "    'Inventory Specialist': [\"High School\", \"Bachelor\"],\n",
    "    'Customer Service Manager': [\"Bachelor\", \"Master\", \"PhD\"],\n",
    "    'Customer Service Representative': [\"High School\", \"Bachelor\"],\n",
    "    'Support Specialist': [\"High School\", \"Bachelor\"],\n",
    "    'Customer Success Manager': [\"Bachelor\", \"Master\", \"PhD\"],\n",
    "    'Help Desk Technician': [\"High School\", \"Bachelor\"]\n",
    "}\n"
   ]
  },
  {
   "cell_type": "code",
   "execution_count": 11,
   "id": "a773bec4",
   "metadata": {},
   "outputs": [],
   "source": [
    "# Hiring Date\n",
    "# Define custom probability weights for each year\n",
    "year_weights = {\n",
    "    2015: 5,   # 15% probability\n",
    "    2016: 8,   # 15% probability\n",
    "    2017: 17,   # 20% probability\n",
    "    2018: 9,  # 15% probability\n",
    "    2019: 10,  # 10% probability\n",
    "    2020: 11,  # 10% probability\n",
    "    2021: 5,  # 8% probability\n",
    "    2022: 12,  # 5% probability\n",
    "    2023: 14,  # 2% probability\n",
    "    2024: 9   # 2% probability\n",
    "}\n"
   ]
  },
  {
   "cell_type": "code",
   "execution_count": 12,
   "id": "472bc25a",
   "metadata": {},
   "outputs": [],
   "source": [
    "# Generate a random date based on custom probabilities\n",
    "def generate_custom_date(year_weights):\n",
    "    year = random.choices(list(year_weights.keys()), weights=list(year_weights.values()))[0]\n",
    "    month = random.randint(1, 12)\n",
    "    day = random.randint(1, 28)  # Assuming all months have 28 days for simplicity\n",
    "    return fake.date_time_between(start_date=datetime(year, 1, 1), end_date=datetime(year, 12, 31))\n",
    "\n",
    "def generate_salary(department, job_title):\n",
    "    salary_dict = {\n",
    "            'HR': {\n",
    "                'HR Manager': np.random.randint(60000, 90000),\n",
    "                'HR Coordinator': np.random.randint(50000, 60000),\n",
    "                'Recruiter': np.random.randint(50000, 70000),\n",
    "                'HR Assistant': np.random.randint(50000, 60000)\n",
    "            },\n",
    "            'IT': {\n",
    "                'IT Manager': np.random.randint(80000, 120000),\n",
    "                'Software Developer': np.random.randint(70000, 95000),\n",
    "                'System Administrator': np.random.randint(60000, 90000),\n",
    "                'IT Support Specialist': np.random.randint(50000, 60000)\n",
    "            },\n",
    "            'Sales': {\n",
    "                'Sales Manager': np.random.randint(70000, 110000),\n",
    "                'Sales Consultant': np.random.randint(60000, 90000),\n",
    "                'Sales Specialist': np.random.randint(50000, 80000),\n",
    "                'Sales Representative': np.random.randint(50000, 70000)\n",
    "            },\n",
    "            'Marketing': {\n",
    "                'Marketing Manager': np.random.randint(70000, 100000),\n",
    "                'SEO Specialist': np.random.randint(50000, 80000),\n",
    "                'Content Creator': np.random.randint(50000, 60000),\n",
    "                'Marketing Coordinator': np.random.randint(50000, 70000)\n",
    "            },\n",
    "            'Finance': {\n",
    "                'Finance Manager': np.random.randint(80000, 120000),\n",
    "                'Accountant': np.random.randint(50000, 80000),\n",
    "                'Financial Analyst': np.random.randint(60000, 90000),\n",
    "                'Accounts Payable Specialist': np.random.randint(50000, 60000)\n",
    "            },\n",
    "            'Operations': {\n",
    "                'Operations Manager': np.random.randint(70000, 100000),\n",
    "                'Operations Analyst': np.random.randint(50000, 80000),\n",
    "                'Logistics Coordinator': np.random.randint(50000, 60000),\n",
    "                'Inventory Specialist': np.random.randint(50000, 60000)\n",
    "            },\n",
    "            'Customer Service': {\n",
    "                'Customer Service Manager': np.random.randint(60000, 90000),\n",
    "                'Customer Service Representative': np.random.randint(50000, 60000),\n",
    "                'Support Specialist': np.random.randint(50000, 60000),\n",
    "                'Help Desk Technician': np.random.randint(50000, 80000)\n",
    "            }\n",
    "        }\n",
    "    return salary_dict[department][job_title]"
   ]
  },
  {
   "cell_type": "code",
   "execution_count": 13,
   "id": "a4837b5c",
   "metadata": {},
   "outputs": [],
   "source": [
    "# Generate the dataset\n",
    "data = []\n",
    "\n",
    "for _ in range(num_records):\n",
    "    employee_id = f\"00-{random.randint(10000000, 99999999)}\"\n",
    "    first_name = fake.first_name()\n",
    "    last_name = fake.last_name()\n",
    "    gender = np.random.choice(['Female', 'Male'], p=[0.46, 0.54])\n",
    "    state = np.random.choice(states, p=state_prob)\n",
    "    city = np.random.choice(states_cities[state])\n",
    "    hiredate = generate_custom_date(year_weights)\n",
    "      #termdate\n",
    "    department = np.random.choice(departments, p=departments_prob)\n",
    "    job_title  = np.random.choice(jobtitles[department], p=jobtitles_prob[department])\n",
    "    education_level = np.random.choice(education_mapping[job_title])\n",
    "    performance_rating = np.random.choice(['Excellent', 'Good', 'Satisfactory', 'Needs Improvement'], p=[0.12, 0.5, 0.3, 0.08])\n",
    "    overtime = np.random.choice(['Yes', 'No'], p=[0.3, 0.7])\n",
    "    salary = generate_salary(department, job_title)\n",
    "\n",
    "    data.append([\n",
    "        employee_id,\n",
    "        first_name,\n",
    "        last_name,\n",
    "        gender,\n",
    "        state,\n",
    "        city,\n",
    "        hiredate,\n",
    "        department,\n",
    "        job_title,\n",
    "        education_level,\n",
    "        salary,\n",
    "        performance_rating,\n",
    "        overtime\n",
    "    ])\n",
    "\n",
    "## Create DataFrame\n",
    "columns = [\n",
    "     'employee_id',\n",
    "     'first_name',\n",
    "     'last_name',\n",
    "     'gender',\n",
    "     'state',\n",
    "     'city',\n",
    "     'hiredate',\n",
    "     'department',\n",
    "     'job_title',\n",
    "     'education_level',\n",
    "     'salary',\n",
    "     'performance_rating',\n",
    "     'overtime'\n",
    "    ]\n",
    "\n",
    "\n",
    "df = pd.DataFrame(data, columns=columns)\n",
    "\n",
    "# Add Birthdate\n",
    "def generate_birthdate(row):\n",
    "    age_distribution = {\n",
    "        'under_25': 0.11,\n",
    "        '25_34': 0.25,\n",
    "        '35_44': 0.31,\n",
    "        '45_54': 0.24,\n",
    "        'over_55': 0.09\n",
    "    }\n",
    "    age_groups = list(age_distribution.keys())\n",
    "    age_probs = list(age_distribution.values())\n",
    "    age_group = np.random.choice(age_groups, p=age_probs)\n",
    "\n",
    "    if any('Manager' in title for title in row['job_title']):\n",
    "        age = np.random.randint(30, 65)\n",
    "    elif row['education_level'] == 'PhD':\n",
    "        age = np.random.randint(27, 65)\n",
    "    elif age_group == 'under_25':\n",
    "         age = np.random.randint(20, 25)\n",
    "    elif age_group == '25_34':\n",
    "        age = np.random.randint(25, 35)\n",
    "    elif age_group == '35_44':\n",
    "        age = np.random.randint(35, 45)\n",
    "    elif age_group == '45_54':\n",
    "        age = np.random.randint(45, 55)\n",
    "    else:\n",
    "        age = np.random.randint(56, 65)\n",
    "\n",
    "    birthdate = fake.date_of_birth(minimum_age=age, maximum_age=age)\n",
    "    return birthdate\n",
    "\n",
    "# Apply the function to generate birthdates\n",
    "df['birthdate'] = df.apply(generate_birthdate, axis=1)"
   ]
  },
  {
   "cell_type": "code",
   "execution_count": 14,
   "id": "d73fb054",
   "metadata": {},
   "outputs": [],
   "source": [
    "# Terminations\n",
    "# Define termination distribution\n",
    "year_weights = {\n",
    "    2015: 5,\n",
    "    2016: 7,\n",
    "    2017: 10,\n",
    "    2018: 12,\n",
    "    2019: 9,\n",
    "    2020: 10,\n",
    "    2021: 20,\n",
    "    2022: 10,\n",
    "    2023: 7,\n",
    "    2024: 10\n",
    "}"
   ]
  },
  {
   "cell_type": "code",
   "execution_count": 15,
   "id": "d2ca6c3e",
   "metadata": {},
   "outputs": [],
   "source": [
    "# Calculate the total number of terminated employees\n",
    "total_employees = num_records\n",
    "termination_percentage = 0.112  # 11.2%\n",
    "total_terminated = int(total_employees * termination_percentage)"
   ]
  },
  {
   "cell_type": "code",
   "execution_count": 16,
   "id": "a69151d7",
   "metadata": {},
   "outputs": [],
   "source": [
    "# Generate termination dates based on distribution\n",
    "termination_dates = []\n",
    "for year, weight in year_weights.items():\n",
    "    num_terminations = int(total_terminated * (weight / 100))\n",
    "    termination_dates.extend([year] * num_terminations)"
   ]
  },
  {
   "cell_type": "code",
   "execution_count": 17,
   "id": "d3da64ff",
   "metadata": {},
   "outputs": [],
   "source": [
    "# Randomly shuffle the termination dates\n",
    "random.shuffle(termination_dates)"
   ]
  },
  {
   "cell_type": "code",
   "execution_count": 18,
   "id": "b587f3e9",
   "metadata": {},
   "outputs": [],
   "source": [
    "# Assign termination dates to terminated employees\n",
    "terminated_indices = df.index[:total_terminated]\n",
    "for i, year in enumerate(termination_dates[:total_terminated]):\n",
    "    df.at[terminated_indices[i], 'termdate'] = datetime(year, 1, 1) + timedelta(days=random.randint(0, 365))"
   ]
  },
  {
   "cell_type": "code",
   "execution_count": 19,
   "id": "6b32aa8f",
   "metadata": {},
   "outputs": [],
   "source": [
    "# Assign None to termdate for employees who are not terminated\n",
    "df['termdate'] = df['termdate'].where(df['termdate'].notnull(), None)\n"
   ]
  },
  {
   "cell_type": "code",
   "execution_count": 21,
   "id": "a17e9cb4",
   "metadata": {},
   "outputs": [],
   "source": [
    "# Ensure termdate is at least 6 months after hiredat\n",
    "df['termdate'] = df.apply(lambda row: row['hiredate'] + timedelta(days=180) if row['termdate'] and row['termdate'] < row['hiredate'] + timedelta(days=180) else row['termdate'], axis=1)\n",
    "\n",
    "education_multiplier = {\n",
    "    'High School': {'Male': 1.03, 'Female': 1.0},\n",
    "    \"Bachelor\": {'Male': 1.115, 'Female': 1.0},\n",
    "    \"Master\": {'Male': 1.0, 'Female': 1.07},\n",
    "    'PhD': {'Male': 1.0, 'Female': 1.17}\n",
    "}\n"
   ]
  },
  {
   "cell_type": "code",
   "execution_count": 22,
   "id": "7adfc956",
   "metadata": {},
   "outputs": [],
   "source": [
    "# Function to calculate age from birthdate\n",
    "def calculate_age(birthdate):\n",
    "    today = pd.Timestamp('today')\n",
    "    age = today.year - birthdate.year - ((today.month, today.day) < (birthdate.month, birthdate.day))\n",
    "    return age"
   ]
  },
  {
   "cell_type": "code",
   "execution_count": 29,
   "id": "0ad716a6",
   "metadata": {},
   "outputs": [],
   "source": [
    "# Function to calculate the adjusted salary\n",
    "def calculate_adjusted_salary(row):\n",
    "    base_salary = row['salary']\n",
    "    gender = row['gender']\n",
    "    education = row['education_level']\n",
    "    age = calculate_age(row['birthdate'])\n",
    "\n",
    "    # Apply education multiplier\n",
    "    multiplier = education_multiplier.get(education, {}).get(gender, 1.0)\n",
    "    adjusted_salary = base_salary * multiplier\n",
    "\n",
    "    # Apply age increment (between 0.1% and 0.3% per year of age)\n",
    "    age_increment = 1 + np.random.uniform(0.001, 0.003) * age\n",
    "    adjusted_salary *= age_increment\n",
    "\n",
    "    # Ensure the adjusted salary is not lower than the base salary\n",
    "    adjusted_salary = max(adjusted_salary, base_salary)\n",
    "\n",
    "    # Round the adjusted salary to the nearest integer\n",
    "    return round(adjusted_salary)"
   ]
  },
  {
   "cell_type": "code",
   "execution_count": 30,
   "id": "21ad07b4",
   "metadata": {},
   "outputs": [],
   "source": [
    "# Apply the function to the DataFrame\n",
    "df['salary'] = df.apply(calculate_adjusted_salary, axis=1)\n"
   ]
  },
  {
   "cell_type": "code",
   "execution_count": 31,
   "id": "9f900906",
   "metadata": {},
   "outputs": [],
   "source": [
    "# Convert 'hiredate' and 'birthdate' to datetime\n",
    "df['hiredate'] = pd.to_datetime(df['hiredate']).dt.date\n",
    "df['birthdate'] = pd.to_datetime(df['birthdate']).dt.date\n",
    "df['termdate'] = pd.to_datetime(df['termdate']).dt.date"
   ]
  },
  {
   "cell_type": "code",
   "execution_count": 32,
   "id": "66ed2028",
   "metadata": {},
   "outputs": [
    {
     "name": "stdout",
     "output_type": "stream",
     "text": [
      "      employee_id first_name last_name  gender           state           city  \\\n",
      "0     00-95822412   Danielle   Johnson  Female        New York        Buffalo   \n",
      "1     00-42868828       John    Taylor    Male  North Carolina      Charlotte   \n",
      "2     00-83197857      Erica   Mcclain    Male        New York  New York City   \n",
      "3     00-13999315   Brittany   Johnson    Male        New York      Rochester   \n",
      "4     00-90801586    Jeffery    Wagner  Female        New York      Rochester   \n",
      "...           ...        ...       ...     ...             ...            ...   \n",
      "8945  00-29226627       Cory    Mccall    Male        New York        Buffalo   \n",
      "8946  00-15091628      Brian    Nguyen    Male        New York  New York City   \n",
      "8947  00-68025539      Corey     Miles  Female        Michigan        Detroit   \n",
      "8948  00-19066901    Krystal    Wilson    Male  North Carolina        Raleigh   \n",
      "8949  00-50413766      Derek  Thornton  Female        New York      Rochester   \n",
      "\n",
      "        hiredate        department              job_title education_level  \\\n",
      "0     2016-04-16  Customer Service   Help Desk Technician     High School   \n",
      "1     2017-02-09                IT   System Administrator        Bachelor   \n",
      "2     2016-02-03        Operations  Logistics Coordinator        Bachelor   \n",
      "3     2016-02-06        Operations   Inventory Specialist        Bachelor   \n",
      "4     2015-01-11        Operations     Operations Analyst        Bachelor   \n",
      "...          ...               ...                    ...             ...   \n",
      "8945  2021-05-29        Operations   Inventory Specialist        Bachelor   \n",
      "8946  2022-07-06        Operations   Inventory Specialist        Bachelor   \n",
      "8947  2018-02-03                HR              Recruiter     High School   \n",
      "8948  2023-12-07           Finance             Accountant        Bachelor   \n",
      "8949  2017-08-15             Sales       Sales Specialist             PhD   \n",
      "\n",
      "      salary performance_rating overtime   birthdate    termdate  \n",
      "0      81552               Good       No  1980-11-11  2021-07-05  \n",
      "1     107520               Good       No  1988-06-20  2019-06-14  \n",
      "2      61104               Good      Yes  1995-02-15  2021-03-06  \n",
      "3      73770               Good       No  1981-01-15  2018-11-06  \n",
      "4      55581       Satisfactory       No  1986-01-04  2017-11-29  \n",
      "...      ...                ...      ...         ...         ...  \n",
      "8945   64265  Needs Improvement       No  1970-04-26         NaN  \n",
      "8946   63570          Excellent      Yes  1985-02-18         NaN  \n",
      "8947   73208  Needs Improvement       No  2002-05-04         NaN  \n",
      "8948   95028               Good      Yes  1963-06-22         NaN  \n",
      "8949   68351               Good       No  1994-05-03         NaN  \n",
      "\n",
      "[8950 rows x 15 columns]\n"
     ]
    }
   ],
   "source": [
    "print(df)\n",
    "\n",
    "# Save to CSV\n",
    "df.to_csv('HumanResources.csv', index=False)"
   ]
  },
  {
   "cell_type": "code",
   "execution_count": 33,
   "id": "f7dff0cd",
   "metadata": {},
   "outputs": [
    {
     "name": "stdout",
     "output_type": "stream",
     "text": [
      "File saved to: C:\\Users\\grees\\Downloads\\HumanResources.csv\n"
     ]
    }
   ],
   "source": [
    "import os\n",
    "\n",
    "downloads_path = os.path.join(os.path.expanduser(\"~\"), \"Downloads\", \"HumanResources.csv\")\n",
    "df.to_csv(downloads_path, index=False)\n",
    "\n",
    "print(f\"File saved to: {downloads_path}\")\n"
   ]
  },
  {
   "cell_type": "code",
   "execution_count": null,
   "id": "40ace279",
   "metadata": {},
   "outputs": [],
   "source": []
  }
 ],
 "metadata": {
  "kernelspec": {
   "display_name": "Python 3 (ipykernel)",
   "language": "python",
   "name": "python3"
  },
  "language_info": {
   "codemirror_mode": {
    "name": "ipython",
    "version": 3
   },
   "file_extension": ".py",
   "mimetype": "text/x-python",
   "name": "python",
   "nbconvert_exporter": "python",
   "pygments_lexer": "ipython3",
   "version": "3.11.4"
  }
 },
 "nbformat": 4,
 "nbformat_minor": 5
}
